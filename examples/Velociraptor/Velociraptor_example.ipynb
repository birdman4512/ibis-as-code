{
 "cells": [
  {
   "cell_type": "code",
   "execution_count": null,
   "metadata": {},
   "outputs": [],
   "source": [
    "#%%capture\n",
    "%pip install --upgrade pyyaml pyvelociraptor grpcio grpcio-tools cryptography"
   ]
  },
  {
   "cell_type": "code",
   "execution_count": null,
   "metadata": {},
   "outputs": [],
   "source": [
    "import yaml\n",
    "import grpc\n",
    "import pyvelociraptor\n",
    "from pyvelociraptor import api_pb2\n",
    "from pyvelociraptor import api_pb2_grpc\n",
    "\n",
    "config_path = 'api.config.yaml'\n",
    "org_id = '<root>'\n",
    "env = []\n",
    "\n",
    "query = \"\"\"\n",
    "SELECT * from info()\n",
    "\"\"\""
   ]
  },
  {
   "cell_type": "code",
   "execution_count": null,
   "metadata": {},
   "outputs": [],
   "source": [
    "#Read the config file\n",
    "config = pyvelociraptor.LoadConfigFile(config_path)\n",
    "\n",
    "# Fill in the SSL params from the api_client config file. You can get such a file:\n",
    "# velociraptor --config server.config.yaml config api_client > api_client.conf.yaml\n",
    "creds = grpc.ssl_channel_credentials(\n",
    "     root_certificates=config[\"ca_certificate\"].encode(\"utf8\"),\n",
    "     private_key=config[\"client_private_key\"].encode(\"utf8\"),\n",
    "     certificate_chain=config[\"client_cert\"].encode(\"utf8\"))\n",
    "\n",
    "options = (('grpc.ssl_target_name_override', \"VelociraptorServer\",),)\n",
    "\n",
    "# The first step is to open a gRPC channel to the server..\n",
    "with grpc.secure_channel(config[\"api_connection_string\"],creds, options) as channel:\n",
    "     stub = api_pb2_grpc.APIStub(channel)\n",
    "\n",
    "# The request consists of one or more VQL queries. Note that\n",
    "# you can collect artifacts by simply naming them using the\n",
    "# \"Artifact\" plugin.\n",
    "request = api_pb2.VQLCollectorArgs(\n",
    "          org_id=org_id,\n",
    "          max_wait=1,\n",
    "          max_row=100,\n",
    "          #timeout=timeout,\n",
    "          Query=[api_pb2.VQLRequest(\n",
    "               Name=\"Test\",\n",
    "               VQL=query,\n",
    "          )],\n",
    "          env=env,\n",
    "     )\n",
    "# This will block as responses are streamed from the\n",
    "# server. If the query is an event query we will run this loop\n",
    "# forever.\n",
    "\n",
    "for response in stub.Query(request):\n",
    "     if response.Response:\n",
    "          # Each response represents a list of rows. The columns\n",
    "          # are provided in their own field as an array, to\n",
    "          # ensure column order is preserved if required. If you\n",
    "          # dont care about column order just ignore the Columns\n",
    "          # field. Note that although JSON does not specify the\n",
    "          # order of keys in a dict Velociraptor always\n",
    "          # maintains this order so an alternative to the\n",
    "          # Columns field is to use a JSON parser that preserves\n",
    "          # field ordering.\n",
    "\n",
    "          # print(\"Columns %s:\" % response.Columns)\n",
    "\n",
    "          # The actual payload is a list of dicts. Each dict has\n",
    "          # column names as keys and arbitrary (possibly nested)\n",
    "          # values.\n",
    "          package = json.loads(response.Response)\n",
    "          print (package)\n",
    "\n",
    "     elif response.log:\n",
    "          # Query execution logs are sent in their own messages.\n",
    "          print (\"%s: %s\" % (time.ctime(response.timestamp / 1000000), response.log))\n"
   ]
  }
 ],
 "metadata": {
  "kernelspec": {
   "display_name": ".venv",
   "language": "python",
   "name": "python3"
  },
  "language_info": {
   "codemirror_mode": {
    "name": "ipython",
    "version": 3
   },
   "file_extension": ".py",
   "mimetype": "text/x-python",
   "name": "python",
   "nbconvert_exporter": "python",
   "pygments_lexer": "ipython3",
   "version": "3.11.2"
  }
 },
 "nbformat": 4,
 "nbformat_minor": 2
}
