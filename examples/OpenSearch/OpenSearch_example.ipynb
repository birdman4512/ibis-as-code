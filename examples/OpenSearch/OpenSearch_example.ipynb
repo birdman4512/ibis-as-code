{
 "cells": [
  {
   "cell_type": "markdown",
   "metadata": {},
   "source": [
    "# OpenSearch Examples Notebook\n",
    "\n",
    "The following notebook contains examples on various ways to connect, and interact with OpenSearch from a Jupyter Notebook. \n",
    "\n",
    "Please be aware, that this notebook is _NOT_ intented to work from top to bottom. \n",
    "\n",
    "Please read each of the notes above the code block for what the code does and how it should be executed. \n",
    "\n",
    "See [Low-level Python Client](https://opensearch.org/docs/latest/clients/python-low-level/) for further details."
   ]
  },
  {
   "cell_type": "markdown",
   "metadata": {},
   "source": [
    "## Install and Import\n",
    "First, we need to install the OpenSearch pip packages. For best results, run this within a venv virtual environment. \n",
    "\n",
    "For the imports, this block imports everything necessary for you to run the whole notebook, so if you are taking this code into your own notebook, make sure you check if it is all needed (i.e. you don't need scan for SQL transactions)"
   ]
  },
  {
   "cell_type": "code",
   "execution_count": null,
   "metadata": {},
   "outputs": [],
   "source": [
    "#%%capture\n",
    "%pip install --upgrade opensearch-py "
   ]
  },
  {
   "cell_type": "code",
   "execution_count": null,
   "metadata": {},
   "outputs": [],
   "source": [
    "#Perform the necessary imports.\n",
    "from opensearchpy import OpenSearch\n",
    "from opensearchpy.helpers import scan\n",
    "\n",
    "#Date\n",
    "import datetime\n",
    "\n",
    "#Password \n",
    "from getpass import getpass\n",
    "\n",
    "#JSON\n",
    "import json\n",
    "\n",
    "#PPrint to help with debugging\n",
    "from pprint import pprint"
   ]
  },
  {
   "cell_type": "markdown",
   "metadata": {},
   "source": [
    "## Variables\n",
    "\n",
    "Set the necessary variables for the script"
   ]
  },
  {
   "cell_type": "code",
   "execution_count": null,
   "metadata": {},
   "outputs": [],
   "source": [
    "hosts = [{\"host\": \"os01\", \"port\": 9200}] #Opensearch details\n",
    "username = 'admin' #Username, there is always an admin account in DFIR2Go\n",
    "password = getpass() #Prompt the user for the password \n",
    "auth = (username, password) #Create the authentication details\n",
    "\n",
    "ca_certs_path = '/certs/ca/ca.crt' #Certs path"
   ]
  },
  {
   "cell_type": "markdown",
   "metadata": {},
   "source": [
    "## Establish a connection to OpenSearch Server\n",
    "\n",
    "The following block of code establishes the connection to the OpenSearch server and presents a client object ready to be used to interact with OpenSearch. \n",
    "\n",
    "**WARNING** For functioning code, you will need to have run all of the blocks above so far. (Some edits might be necessary), after this block, you just want to run the blocks relevant to how you want to interact with OpenSearch. (i.e. just run the SQL parts. )"
   ]
  },
  {
   "cell_type": "code",
   "execution_count": null,
   "metadata": {},
   "outputs": [],
   "source": [
    "client = OpenSearch(\n",
    "    hosts=hosts, \n",
    "    http_compress=True,\n",
    "    http_auth=auth,\n",
    "    use_ssl=True,\n",
    "    timeout=300,\n",
    "    verify_certs=True,\n",
    "    ssl_assert_hostname=False,\n",
    "    ssl_show_warn=False,\n",
    "    ca_certs=ca_certs_path        \n",
    ")\n"
   ]
  },
  {
   "cell_type": "markdown",
   "metadata": {},
   "source": [
    "# DQL Searching\n",
    "The following block perform a search on the data using DQL formatted search. DQL is very powerful, but building the queries is complex. "
   ]
  },
  {
   "cell_type": "code",
   "execution_count": null,
   "metadata": {},
   "outputs": [],
   "source": [
    "index = 'artifact_windows_sysinternals_sysmonlogforward*' #The index you want to search.\n",
    "\n",
    "#The query is the search to perform. The following will return an entire index. \n",
    "#To assist in building your query, you can use the developer tools in the browser. \n",
    "#When performing a search, review the submitted webpage which will contain a query value which can be used as a starting point.\n",
    "query = {\n",
    "    \"size\": \"10000\",  \n",
    "    \"timeout\": \"300s\",\n",
    "    \"query\": {\n",
    "        \"bool\": {\n",
    "            \"must\": [],\n",
    "            \"filter\": [\n",
    "              {\n",
    "                \"match_all\": {}\n",
    "              }\n",
    "            ],\n",
    "            \"should\": [],\n",
    "            \"must_not\": []\n",
    "          }\n",
    "    }\n",
    "}\n",
    "\n",
    "#Use Scan function to interact with OpenSearch, once the results have been returned, loop through all of them printing the _source component.\n",
    "for results in scan(client, query=query, index=index):\n",
    "    #Print the record\n",
    "    print(results[\"_source\"])"
   ]
  },
  {
   "cell_type": "markdown",
   "metadata": {},
   "source": [
    "# Creating an Index and adding data\n",
    "\n",
    "The next set of blocks will create an index and then use a loop to add documents into that index.  "
   ]
  },
  {
   "cell_type": "code",
   "execution_count": null,
   "metadata": {},
   "outputs": [],
   "source": [
    "index_name = 'demo_index' #Name of the index to be created.\n",
    "index_body = {\n",
    "    'settings': {\n",
    "        'index': {\n",
    "            'number_of_shards': 1\n",
    "        }\n",
    "    }\n",
    "}\n",
    "\n",
    "#Create the index in OpenSearch\n",
    "response = client.indices.create(index_name, body=index_body)\n",
    "\n",
    "#Use a loop to put lots of data into the index\n",
    "for number in range(0,100):\n",
    "    #Create a document, add all the fields you want to add to the index here within the document dictionary\n",
    "    document = {\n",
    "        'TimeCreated': datetime.datetime.now(),\n",
    "        'Number': number,\n",
    "        'Text': 'Some Text'\n",
    "    }\n",
    "\n",
    "    #Add the data into OpenSearch\n",
    "    response = client.index(\n",
    "        index = index_name,\n",
    "        body = document,\n",
    "        id = number,\n",
    "        refresh = True\n",
    "    )"
   ]
  },
  {
   "cell_type": "markdown",
   "metadata": {},
   "source": [
    "# SQL Searching\n",
    "\n",
    "The next block of code will interact with the database using SQL"
   ]
  },
  {
   "cell_type": "code",
   "execution_count": null,
   "metadata": {},
   "outputs": [],
   "source": [
    "#Define the query\n",
    "query = \"SELECT * FROM artifact_windows_sysinternals_sysmonlogforward\"\n",
    "schema = []\n",
    "results = []\n",
    "\n",
    "#Perform the search on the OpenSearch Data using client.transport.perform_request and providing the query into the body\n",
    "response = client.transport.perform_request(\n",
    "    'POST', \n",
    "    '/_plugins/_sql?format=json',\n",
    "    body={'query': query})\n",
    "\n",
    "#If we want the data in JSON, dump it as a JSON string\n",
    "pprint(json.dumps(response))\n",
    "\n",
    "#Print the data\n",
    "for entry in response['hits']['hits']:\n",
    "    if entry['_source']['ID'] == 1:\n",
    "        print(entry['_source']['EventData']['CommandLine'])\n",
    "    elif entry['_source']['ID'] == 6:\n",
    "        print(entry['_source']['EventData']['ImageLoaded'])\n",
    "    "
   ]
  }
 ],
 "metadata": {
  "kernelspec": {
   "display_name": "Python 3",
   "language": "python",
   "name": "python3"
  },
  "language_info": {
   "codemirror_mode": {
    "name": "ipython",
    "version": 3
   },
   "file_extension": ".py",
   "mimetype": "text/x-python",
   "name": "python",
   "nbconvert_exporter": "python",
   "pygments_lexer": "ipython3",
   "version": "3.11.2"
  }
 },
 "nbformat": 4,
 "nbformat_minor": 2
}
