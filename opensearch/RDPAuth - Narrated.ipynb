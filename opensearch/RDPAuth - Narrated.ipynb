{
 "cells": [
  {
   "cell_type": "markdown",
   "metadata": {},
   "source": [
    "# Authentication Narrative\n",
    "\n",
    "This workbook, will use the Velociraptor Auth artefacts and provide a narration of the events based on the search criteria you provide. "
   ]
  },
  {
   "cell_type": "markdown",
   "metadata": {},
   "source": [
    "### Environment Setup\n",
    "\n",
    "Install the necessary packages"
   ]
  },
  {
   "cell_type": "code",
   "execution_count": null,
   "metadata": {},
   "outputs": [],
   "source": [
    "#%%capture\n",
    "%pip install --upgrade opensearch-py "
   ]
  },
  {
   "cell_type": "markdown",
   "metadata": {},
   "source": [
    "### Import Components\n",
    "\n",
    "Import the necessary packages"
   ]
  },
  {
   "cell_type": "code",
   "execution_count": null,
   "metadata": {},
   "outputs": [],
   "source": [
    "#Perform the necessary imports.\n",
    "from opensearchpy import OpenSearch\n",
    "from opensearchpy.helpers import scan\n",
    "\n",
    "#Date\n",
    "import datetime\n",
    "\n",
    "#Password \n",
    "from getpass import getpass\n",
    "\n",
    "#JSON\n",
    "import json"
   ]
  },
  {
   "cell_type": "markdown",
   "metadata": {},
   "source": [
    "### User Variables\n",
    "\n",
    "The following block of code contains the variables that can be modified by the user. See comments for details"
   ]
  },
  {
   "cell_type": "code",
   "execution_count": null,
   "metadata": {},
   "outputs": [],
   "source": [
    "#Un-comment the right one\n",
    "#vr_artifact_type = \"acsc-auth\"\n",
    "vr_artifact_type = \"rdp-auth\"\n",
    "\n",
    "# You can use * as a wildcard. Don't adjust the keys\n",
    "# Logon Types (Not exhaustive)\n",
    "# 2 - Local Logon (At the terminal)\n",
    "# 3 - Network Logon\n",
    "# 10 - Remote Desktop\n",
    "search_fields = {\n",
    "    \"UserName\": \"\", #A Username to search on (i.e. this username signed into X machines)\n",
    "    \"SourceIP\": \"\", # A Source to search on (i.e. all users who signed in from X)\n",
    "    \"Computer\": \"\", # A Target (i.e. all users who signed into X machine)\n",
    "    \"LogonType\": \"\", # The type of logon (i.e. show me all RDP logons. Types above)\n",
    "    \"EventID\": \"\" #The event ID type (i.e. only show me 4625 events (failed logons))\n",
    "}\n",
    "\n",
    "#Should be in ISO8601 - e.g. 2023-08-12T06:04:32.188Z\n",
    "date_from = \"\"\n",
    "date_to = \"\"\n",
    "\n",
    "username = 'admin' #Username, there is always an admin account in DFIR2Go"
   ]
  },
  {
   "cell_type": "markdown",
   "metadata": {},
   "source": [
    "### System Variables\n",
    "\n",
    "DO NOT MODIFY BELOW THIS LINE!!! Unless you know what you are doing. \n",
    "\n",
    "> When you run this block, a text input field will appear ⬆️. Enter a valid password for the OpenSearch Admin account"
   ]
  },
  {
   "cell_type": "code",
   "execution_count": null,
   "metadata": {},
   "outputs": [],
   "source": [
    "hosts = [{\"host\": \"os01\", \"port\": 9200}] #Opensearch details\n",
    "password = getpass() #Prompt the user for the password \n",
    "auth = (username, password) #Create the authentication details\n",
    "\n",
    "ca_certs_path = '/certs/ca/ca.crt' #Certs path\n",
    "logon_types = {\n",
    "    \"2\": \"Interactive (Console)\",\n",
    "    \"3\": \"Network\",\n",
    "    \"4\": \"Batch (Scheduled Task)\",\n",
    "    \"5\": \"Service\",\n",
    "    \"7\": \"Unlock\",\n",
    "    \"8\": \"Network Clear Text (Basic Auth?)\",\n",
    "    \"9\": \"Alternative Credentials Provided (RunAs?)\",\n",
    "    \"10\": \"Remote Interactive (Remote Desktop)\",\n",
    "    \"11\": \"Cached Interactive (Away from authentication source)\"\n",
    "}\n",
    "\n",
    "vr_index_name = {\n",
    "    'acsc-auth':'logstash-vr-acsc-auth*',\n",
    "    'rdp-auth':'logstash-vr-rdpauth*',\n",
    "}"
   ]
  },
  {
   "cell_type": "markdown",
   "metadata": {},
   "source": [
    "### OpenSearch connection\n",
    "\n",
    "Makes the connection to OpenSearch."
   ]
  },
  {
   "cell_type": "code",
   "execution_count": null,
   "metadata": {},
   "outputs": [],
   "source": [
    "client = OpenSearch(\n",
    "    hosts=hosts, \n",
    "    http_compress=True,\n",
    "    http_auth=auth,\n",
    "    use_ssl=True,\n",
    "    timeout=300,\n",
    "    verify_certs=True,\n",
    "    ssl_assert_hostname=False,\n",
    "    ssl_show_warn=False,\n",
    "    ca_certs=ca_certs_path        \n",
    ")"
   ]
  },
  {
   "cell_type": "markdown",
   "metadata": {},
   "source": [
    "### Perform the search and display results\n",
    "\n",
    "The following block will build the search query, perform the search and display the results.\n",
    "See comments for specific details"
   ]
  },
  {
   "cell_type": "code",
   "execution_count": null,
   "metadata": {},
   "outputs": [],
   "source": [
    "index = vr_index_name[vr_artifact_type] #The index you want to search.\n",
    "\n",
    "should_clauses = []\n",
    "for field, term in search_fields.items():\n",
    "  if term:\n",
    "    if \"*\" in term:\n",
    "      should_clauses.append({ \"bool\": { \"should\": [ { \"query_string\": { \"fields\": [field], \"query\": term } } ], \"minimum_should_match\": 1 }})\n",
    "    else:\n",
    "      should_clauses.append({ \"bool\": { \"should\": [ { \"match\": {field: term} } ], \"minimum_should_match\": 1 } })\n",
    "\n",
    "# Initialize filter_list \n",
    "filter_list = [ \n",
    "      { \n",
    "        \"bool\": { \n",
    "          \"filter\": should_clauses \n",
    "        } \n",
    "      }] \n",
    "      \n",
    "# Conditionally add the range filter if dates are provided \n",
    "if date_from and date_to: \n",
    "  filter_list.append({ \n",
    "    \"range\": { \n",
    "      \"@timestamp\": { \n",
    "        \"gte\": date_from, \n",
    "        \"lte\": date_to, \n",
    "        \"format\": \"strict_date_optional_time\" \n",
    "      } \n",
    "    }})\n",
    "\n",
    "#The query is the search to perform. The following will return an entire index. \n",
    "#To assist in building your query, you can use the developer tools in the browser. \n",
    "#When performing a search, review the submitted webpage which will contain a query value which can be used as a starting point.\n",
    "query = {\n",
    "  \"sort\": [\n",
    "    {\n",
    "      \"@timestamp\": {\n",
    "        \"order\": \"asc\",\n",
    "        \"unmapped_type\": \"boolean\"\n",
    "      }\n",
    "    }\n",
    "  ],\n",
    "    \"size\": \"10000\",  \n",
    "    \"timeout\": \"300s\",\n",
    "    \"query\": {\n",
    "        \"bool\": {\n",
    "            \"must\": [],\n",
    "            \"filter\": should_clauses,\n",
    "            \"should\": [],\n",
    "            \"must_not\": []\n",
    "          }\n",
    "    }\n",
    "}\n",
    "\n",
    "#Use Scan function to interact with OpenSearch, once the results have been returned, loop through all of them printing the _source component.\n",
    "for results in scan(client, query=query, index=index):\n",
    "    event_id = results[\"_source\"][\"EventID\"]\n",
    "\n",
    "    #Now work through the various event IDs\n",
    "    if event_id == 21:\n",
    "      # Terminal Services - Successful Authentication\n",
    "      pass\n",
    "\n",
    "    elif event_id == 22:\n",
    "      # Terminal Services - Shell Start\n",
    "      pass\n",
    "\n",
    "    elif event_id == 23:\n",
    "      # Terminal Services - Log off\n",
    "      pass\n",
    "\n",
    "    elif event_id == 24:\n",
    "      # Terminal Services - Session Disconnect\n",
    "      pass\n",
    "\n",
    "    elif event_id == 25:\n",
    "      # Terminal Services - Reconnect to RDP Session\n",
    "      pass\n",
    "      \n",
    "    elif event_id == 39:\n",
    "      # Terminal Services - Disconnected by another user\n",
    "      pass\n",
    "\n",
    "    elif event_id == 40:\n",
    "      # Terminal Services - Disconnected\n",
    "      print(\"At {time}, the {user} disconnected {computer} via {logon_type} from {source}.\".format(\n",
    "          time=results['_source']['EventTime'], user=results['_source']['UserName'], computer=results['_source']['Computer'], \n",
    "          logon_type=logon_types[results['_source']['LogonType']], source=results['_source']['SourceIP']))\n",
    "\n",
    "    elif event_id == 1194:\n",
    "      # Remote Desktop - User auth successful\n",
    "      pass\n",
    "\n",
    "    elif event_id == 4624:\n",
    "      # Security - Successful Logon\n",
    "      print(\"At {time}, the {user} successfully logged onto {computer} via {logon_type} from {source}.\".format(\n",
    "          time=results['_source']['EventTime'], user=results['_source']['UserName'], computer=results['_source']['Computer'], \n",
    "          logon_type=logon_types[results['_source']['LogonType']], source=results['_source']['SourceIP']))\n",
    "\n",
    "    elif event_id == 4625:\n",
    "      # Security - Failed Logon\n",
    "      print(\"At {time}, the {user} failed to log onto {computer} via {logon_type} from {source}.\".format(\n",
    "          time=results['_source']['EventTime'], user=results['_source']['UserName'], computer=results['_source']['Computer'], \n",
    "          logon_type=logon_types[results['_source']['LogonType']], source=results['_source']['SourceIP']))\n",
    "\n",
    "    elif event_id == 4634 or event_id == 4636 or event_id == 4647:\n",
    "      # Security - Account was logged off\n",
    "      # TODO Add duration \n",
    "      print(\"At {time}, the {user} logged off from {computer}\".format(\n",
    "          time=results['_source']['EventTime'], user=results['_source']['UserName'], computer=results['_source']['Computer']))\n",
    "    \n",
    "\n",
    "    else:\n",
    "      # Default action if EventID is not found \n",
    "      print(\"An unexpected Event ID was used. That Event ID was: {eventid}\".format(eventid=results['_source']['EventID']))\n",
    "    "
   ]
  }
 ],
 "metadata": {
  "kernelspec": {
   "display_name": ".venv",
   "language": "python",
   "name": "python3"
  },
  "language_info": {
   "codemirror_mode": {
    "name": "ipython",
    "version": 3
   },
   "file_extension": ".py",
   "mimetype": "text/x-python",
   "name": "python",
   "nbconvert_exporter": "python",
   "pygments_lexer": "ipython3",
   "version": "3.11.2"
  }
 },
 "nbformat": 4,
 "nbformat_minor": 2
}
