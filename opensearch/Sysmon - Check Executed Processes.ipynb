{
 "cells": [
  {
   "cell_type": "markdown",
   "metadata": {},
   "source": [
    "# Sysmon - Review last 24 hours of execution\n",
    "\n",
    "This notebook is intented to identify malicious or unknown applications that have been executed network wide in the past 24 (adjustable) hours. "
   ]
  },
  {
   "cell_type": "markdown",
   "metadata": {},
   "source": [
    "### Package install. \n",
    "\n",
    "This may not need to be run every time, just needed on environment creation"
   ]
  },
  {
   "cell_type": "code",
   "execution_count": null,
   "metadata": {},
   "outputs": [],
   "source": [
    "#%%capture\n",
    "%pip install --upgrade opensearch-py "
   ]
  },
  {
   "cell_type": "markdown",
   "metadata": {},
   "source": [
    "### Imports\n",
    "\n",
    "Import the required packages"
   ]
  },
  {
   "cell_type": "code",
   "execution_count": 1,
   "metadata": {},
   "outputs": [],
   "source": [
    "#Perform the necessary imports.\n",
    "from opensearchpy import OpenSearch\n",
    "from opensearchpy.helpers import scan\n",
    "\n",
    "#Date\n",
    "from datetime import datetime, timedelta\n",
    "\n",
    "#Password \n",
    "from getpass import getpass\n",
    "\n",
    "#JSON\n",
    "import json\n",
    "\n",
    "#Requests\n",
    "import requests"
   ]
  },
  {
   "cell_type": "markdown",
   "metadata": {},
   "source": [
    "### User Variables"
   ]
  },
  {
   "cell_type": "code",
   "execution_count": 25,
   "metadata": {},
   "outputs": [],
   "source": [
    "duration = 24 #Duration to go back in hours\n",
    "include_signed = False #If set to True, will process all applications, if false, will only searched unsigned apps\n",
    "include_path_mismatch = True #If set to True, will print path mismatch with VT, if false, will exclude this check"
   ]
  },
  {
   "cell_type": "markdown",
   "metadata": {},
   "source": [
    "### System Variables\n",
    "\n",
    "Do not modify the block below unless you know what you are doing!"
   ]
  },
  {
   "cell_type": "code",
   "execution_count": 8,
   "metadata": {},
   "outputs": [],
   "source": [
    "hosts = [{\"host\": \"os01\", \"port\": 9200}] #Opensearch details\n",
    "username = 'admin' #Username, there is always an admin account in DFIR2Go\n",
    "password = getpass(prompt=\"OpenSearch password for {user}:\".format(user=username)) #Prompt the user for the password \n",
    "auth = (username, password) #Create the authentication details\n",
    "\n",
    "ca_certs_path = '/certs/web/user-certs/ca/ca.crt' #Certs path\n",
    "\n",
    "#Index\n",
    "index = 'artifact_windows_sysinternals_sysmonlogforward*'\n",
    "\n",
    "#VirusTotal API Key\n",
    "vt_api_key = getpass(prompt=\"VirusTotal API Key:\") #Prompt VT API Key"
   ]
  },
  {
   "cell_type": "markdown",
   "metadata": {},
   "source": [
    "### Connection to OpenSearch"
   ]
  },
  {
   "cell_type": "code",
   "execution_count": 9,
   "metadata": {},
   "outputs": [],
   "source": [
    "client = OpenSearch(\n",
    "    hosts=hosts, \n",
    "    http_compress=True,\n",
    "    http_auth=auth,\n",
    "    use_ssl=True,\n",
    "    timeout=300,\n",
    "    verify_certs=True,\n",
    "    ssl_assert_hostname=False,\n",
    "    ssl_show_warn=False,\n",
    "    ca_certs=ca_certs_path        \n",
    ")\n"
   ]
  },
  {
   "cell_type": "markdown",
   "metadata": {},
   "source": [
    "### Search the database for recent results\n",
    "\n",
    "This section will define the query and interact with OpenSearch to obtain the results"
   ]
  },
  {
   "cell_type": "code",
   "execution_count": 26,
   "metadata": {},
   "outputs": [],
   "source": [
    "#Define the query\n",
    "query = {\n",
    "    \"size\": \"10000\",  \n",
    "    \"timeout\": \"300s\",\n",
    "    \"query\": {\n",
    "        \"bool\": {\n",
    "            \"must\": [],\n",
    "            \"filter\": [\n",
    "              {\n",
    "                \"match\": {\n",
    "                  \"ID\": 1\n",
    "                }\n",
    "              },\n",
    "              {\n",
    "                \"range\": {\n",
    "                  \"Timestamp\": {\n",
    "                    \"gte\": datetime.now() - timedelta(hours=duration),\n",
    "                    \"lte\": datetime.now(),\n",
    "                    \"format\": \"strict_date_optional_time\"\n",
    "                  }\n",
    "                }\n",
    "              }\n",
    "            ],\n",
    "            \"should\": [],\n",
    "            \"must_not\": []\n",
    "          }\n",
    "    }\n",
    "}\n",
    "\n",
    "#Clear results\n",
    "processes = []\n",
    "for results in scan(client, query=query, index=index):\n",
    "    t_proc = {} #Clear the temp dictionary\n",
    "\n",
    "    #Filter results\n",
    "    if include_signed or not include_signed and results['_source']['EventData']['Company'] == '-':\n",
    "      #Now get a list of unique MD5 hashes  \n",
    "      try:\n",
    "          #Extract the MD5 hash\n",
    "          tmp_hashes = results['_source']['EventData']['Hashes'].split(',')\n",
    "          t_proc['md5_hash'] = tmp_hashes[0].replace(\"MD5=\",\"\")\n",
    "\n",
    "          #Get the image path. \n",
    "          t_proc['path'] = results['_source']['EventData']['Image']\n",
    "\n",
    "          #Get the hostname\n",
    "          t_proc['host'] = results['_source']['Hostname']\n",
    "\n",
    "          #Check if the hash is in the list\n",
    "          if t_proc not in processes:\n",
    "              processes.append(t_proc)\n",
    "              #print('Added Hash for ' + results['_source']['EventData']['Image'])\n",
    "              #print(results['_source']['EventData']['CommandLine'])\n",
    "          #else:\n",
    "              #print('Hash not added for ' + results['_source']['EventData']['Image'])\n",
    "                  \n",
    "      except:\n",
    "          print(\"Command Line Missing\")\n"
   ]
  },
  {
   "cell_type": "markdown",
   "metadata": {},
   "source": [
    "### Enrich results\n",
    "\n",
    "Search VirusTotal for each of the hashes looking for anything ususual. "
   ]
  },
  {
   "cell_type": "code",
   "execution_count": null,
   "metadata": {},
   "outputs": [],
   "source": [
    "for proc in processes:\n",
    "    #Define the variables\n",
    "    hash = proc['md5_hash']\n",
    "    path = proc['path']\n",
    "    host = proc['host']\n",
    "    print_results = False #Will we display anything for this result\n",
    "    result = '' #Blank Result variable\n",
    "\n",
    "    result += '\\nReviewing: {path} ({hash}) from {host}'.format(path=path, hash=hash, host=host)\n",
    "\n",
    "    vtdata = requests.get(\"https://www.virustotal.com/api/v3/files/{hash}\".format(hash=hash), headers={\"x-apikey\":vt_api_key})\n",
    "\n",
    "    if vtdata.status_code == 200:\n",
    "        try:\n",
    "            vtjson = vtdata.json() #Convert to JSON\n",
    "            \n",
    "            #Work out if there is a file or not\n",
    "            if 'error' in vtjson:\n",
    "                print_results = True #Set the flag to true\n",
    "                result = '\\n[ERROR]: {message}'.format(message=jtson['error']['message'])\n",
    "            elif 'data' in vtjson:              \n",
    "                #print(vtjson['data']['attributes']['last_analysis_stats']) #Debug\n",
    "                if vtjson['data']['attributes']['last_analysis_stats']['malicious'] > 0:\n",
    "                    print_results = True #Set the flag to true\n",
    "                    result += '\\n + Flagged as Malicious by: {count} '.format(count=vtjson['data']['attributes']['last_analysis_stats']['malicious'])\n",
    "                elif vtjson['data']['attributes']['last_analysis_stats']['suspicious'] > 0:\n",
    "                    print_results = True #Set the flag to true\n",
    "                    result += '\\n + Flagged as Suspicious by: {count} '.format(count=vtjson['data']['attributes']['last_analysis_stats']['suspicious'])\n",
    "                else:\n",
    "                    result += '\\n + Flagged as Undetected by: {count} '.format(count=vtjson['data']['attributes']['last_analysis_stats']['undetected'])\n",
    "\n",
    "                #Next, check if the image matches the names\n",
    "                if include_path_mismatch and path not in vtjson['data']['attributes']['names']:\n",
    "                    print_results = True #Set the flag to true \n",
    "                    result += '\\n + The path for {hash} does not match what is reported by VT'.format(hash=hash)\n",
    "            \n",
    "        #Error checking from the JSON decoding\n",
    "        except ValueError:  # includes simplejson.decoder.JSONDecodeError\n",
    "            print(\"[ERROR] Issue decoding VirusTotal data \")\n",
    "\n",
    "    #Now print the result\n",
    "    if print_results:\n",
    "        print(result)\n",
    "\n",
    "    elif vtdata.status_code == 429:\n",
    "        print('VT Quota Exceeded. Stopping')\n",
    "        break;\n"
   ]
  }
 ],
 "metadata": {
  "kernelspec": {
   "display_name": ".venv",
   "language": "python",
   "name": "python3"
  },
  "language_info": {
   "codemirror_mode": {
    "name": "ipython",
    "version": 3
   },
   "file_extension": ".py",
   "mimetype": "text/x-python",
   "name": "python",
   "nbconvert_exporter": "python",
   "pygments_lexer": "ipython3",
   "version": "3.8.10"
  }
 },
 "nbformat": 4,
 "nbformat_minor": 2
}
